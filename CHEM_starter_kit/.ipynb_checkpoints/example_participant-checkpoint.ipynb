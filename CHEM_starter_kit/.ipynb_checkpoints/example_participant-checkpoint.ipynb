{
 "cells": [
  {
   "cell_type": "code",
   "execution_count": 1,
   "id": "6a03aa19",
   "metadata": {},
   "outputs": [],
   "source": [
    "import pandas as pd\n",
    "from zipfile import ZipFile\n",
    "import numpy as np"
   ]
  },
  {
   "cell_type": "markdown",
   "id": "990ab5ba",
   "metadata": {},
   "source": [
    "# Read submission template\n",
    "The submission template contains the initial values and targets for which you will need to choose controls."
   ]
  },
  {
   "cell_type": "code",
   "execution_count": 2,
   "id": "aec77aa0",
   "metadata": {},
   "outputs": [],
   "source": [
    "df = pd.read_csv('submission_template.csv')"
   ]
  },
  {
   "cell_type": "markdown",
   "id": "e3106f6a",
   "metadata": {},
   "source": [
    "# Determine desired input\n",
    "Implement your learned/derived controller. For each set of initial values 'Xinit' you need to select a set of impulse controls to get the Y-process close to the target value 'target'. The score is based on proximity of Y to the target and the size of the control inputs used (see the exact score function in the white paper)."
   ]
  },
  {
   "cell_type": "code",
   "execution_count": 3,
   "id": "62e7e813",
   "metadata": {},
   "outputs": [],
   "source": [
    "for k, row in df.iterrows():\n",
    "    # initial values\n",
    "    Xinit = row[[f'X{k}' for k in range(1, 15)]].values\n",
    "    target = row['target']\n",
    "\n",
    "    # example controller\n",
    "    # Replace the part below with your controller\n",
    "\n",
    "    df.loc[k, [f'U{k}' for k in range(1, 9)]] = np.abs(\n",
    "        (Xinit.mean() - target) * Xinit)[:8]"
   ]
  },
  {
   "cell_type": "markdown",
   "id": "49235935",
   "metadata": {},
   "source": [
    "# Write result to submission file\n",
    "Once you have selected controls for each set of initial values, you need to write it a csv file in the exact same format as the original submission_template.csv file."
   ]
  },
  {
   "cell_type": "code",
   "execution_count": 6,
   "id": "4d10d56a",
   "metadata": {},
   "outputs": [],
   "source": [
    "df.to_csv('submission.csv', index=False)\n",
    "ZipFile('submission.zip', mode='w').write('submission.csv')"
   ]
  },
  {
   "cell_type": "markdown",
   "id": "f79b697e",
   "metadata": {},
   "source": [
    "# Upload submission.zip to Codalab"
   ]
  }
 ],
 "metadata": {
  "kernelspec": {
   "display_name": "Python 3 (ipykernel)",
   "language": "python",
   "name": "python3"
  },
  "language_info": {
   "codemirror_mode": {
    "name": "ipython",
    "version": 3
   },
   "file_extension": ".py",
   "mimetype": "text/x-python",
   "name": "python",
   "nbconvert_exporter": "python",
   "pygments_lexer": "ipython3",
   "version": "3.8.10"
  }
 },
 "nbformat": 4,
 "nbformat_minor": 5
}
